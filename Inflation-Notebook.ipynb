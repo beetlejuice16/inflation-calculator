{
 "cells": [
  {
   "cell_type": "code",
   "execution_count": 1,
   "source": [
    "import pandas as pd\n",
    "import numpy as np \n",
    "import seaborn as sns\n",
    "import matplotlib.pyplot as plt\n",
    "%matplotlib inline"
   ],
   "outputs": [],
   "metadata": {}
  },
  {
   "cell_type": "code",
   "execution_count": 8,
   "source": [
    "inflation = pd.read_csv('Germany_PI_1991-2020', index_col=0)"
   ],
   "outputs": [],
   "metadata": {}
  },
  {
   "cell_type": "code",
   "execution_count": 9,
   "source": [
    "def get_input():\n",
    "    \n",
    "    ref = int(input('Enter reference year: '))\n",
    "    tar = int(input('Enter target year: '))\n",
    "    \n",
    "    return ref, tar"
   ],
   "outputs": [],
   "metadata": {}
  },
  {
   "cell_type": "code",
   "execution_count": 10,
   "source": [
    "def get_index():\n",
    "\n",
    "    ref, tar = get_input()\n",
    "    \n",
    "    ref_index = inflation['Consumer price index'][ref]\n",
    "    tar_index = inflation['Consumer price index'][tar]\n",
    "    \n",
    "    return ref_index, tar_index, ref, tar"
   ],
   "outputs": [],
   "metadata": {}
  },
  {
   "cell_type": "code",
   "execution_count": 11,
   "source": [
    "def convert():\n",
    "    \n",
    "    ref_index, tar_index, ref, tar = get_index()\n",
    "    ratio = tar_index / ref_index\n",
    "    \n",
    "    initial_value = float(input('Enter initial value in euros: '))\n",
    "    final_value = round(initial_value * ratio, 2)\n",
    "    \n",
    "    print(f'{initial_value} euros from {ref} are worth {final_value} in {tar}.')\n",
    "    \n",
    "    return final_value"
   ],
   "outputs": [],
   "metadata": {}
  },
  {
   "cell_type": "code",
   "execution_count": 14,
   "source": [
    "convert()"
   ],
   "outputs": [
    {
     "output_type": "stream",
     "name": "stdout",
     "text": [
      "100.0 euros from 2001 are worth 129.82 in 2020.\n"
     ]
    },
    {
     "output_type": "execute_result",
     "data": {
      "text/plain": [
       "129.82"
      ]
     },
     "metadata": {},
     "execution_count": 14
    }
   ],
   "metadata": {}
  },
  {
   "cell_type": "code",
   "execution_count": null,
   "source": [],
   "outputs": [],
   "metadata": {}
  }
 ],
 "metadata": {
  "interpreter": {
   "hash": "72d921ffdc329573a145c43dec21d9037eff0af015e23280ee9b9bda5d41aa71"
  },
  "kernelspec": {
   "name": "python3",
   "display_name": "Python 3.9.5 64-bit ('masters': conda)"
  },
  "language_info": {
   "codemirror_mode": {
    "name": "ipython",
    "version": 3
   },
   "file_extension": ".py",
   "mimetype": "text/x-python",
   "name": "python",
   "nbconvert_exporter": "python",
   "pygments_lexer": "ipython3",
   "version": "3.9.5"
  }
 },
 "nbformat": 4,
 "nbformat_minor": 4
}